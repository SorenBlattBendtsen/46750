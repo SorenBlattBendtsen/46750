{
 "cells": [
  {
   "cell_type": "markdown",
   "metadata": {},
   "source": [
    "### Input data"
   ]
  },
  {
   "cell_type": "code",
   "execution_count": 46,
   "metadata": {},
   "outputs": [],
   "source": [
    "import gurobipy as gb\n",
    "import numpy as np\n",
    "import pandas as pd\n",
    "\n",
    "gen_costs = pd.read_excel('gen_costs.xlsx')\n",
    "gen_data = pd.read_excel('gen_data.xlsx')\n",
    "line_data = pd.read_excel('line_data.xlsx')\n",
    "system_demand = pd.read_excel('system_demand.xlsx')\n",
    "load_distribution = pd.read_excel('load_distribution.xlsx')\n",
    "\n",
    "wind_data = []\n",
    "for i in range(6):\n",
    "    wind_data.append(pd.read_csv('wind 1.out'))\n",
    "\n",
    "\n",
    "n_bus = 24\n",
    "\n",
    "bus_data = pd.DataFrame(index = np.arange(n_bus), data = np.zeros(n_bus), columns = ['Load'])\n",
    "bus_data['Wind'] = 0\n",
    "\n",
    "line_data['Susceptance pu'] = 1 / line_data['Reactance pu']\n",
    "\n",
    "branch_matrix = np.zeros((n_bus, n_bus)) #susceptance\n",
    "\n",
    "#Filling out susceptance matrix\n",
    "\n",
    "for n in range(1, n_bus + 1):\n",
    "    branch_matrix[n - 1][n - 1] = line_data.loc[(line_data['From'] == n) | (line_data['To'] == n), 'Susceptance pu'].sum()\n",
    "    for k in range(n, n_bus + 1): #start from n\n",
    "        if k != n:\n",
    "            branch_matrix[n - 1][k - 1] = -1 * (line_data.loc[(line_data['From'] == n) & (line_data['To'] == k), 'Susceptance pu'].sum())\n",
    "            branch_matrix[k - 1][n - 1] = branch_matrix[n - 1][k - 1]"
   ]
  },
  {
   "cell_type": "markdown",
   "metadata": {},
   "source": [
    "<div>\n",
    "<img src=\"image.png\" width=\"700\"/>\n",
    "</div>\n"
   ]
  },
  {
   "cell_type": "markdown",
   "metadata": {},
   "source": [
    "### Task 1 (single time step)"
   ]
  },
  {
   "cell_type": "code",
   "execution_count": 14,
   "metadata": {},
   "outputs": [
    {
     "data": {
      "text/plain": [
       "array([  0.      ,  67.48173 ,  60.37839 , 111.877605,  46.17171 ,\n",
       "        44.395875,  85.24008 ,  78.13674 , 106.5501  , 108.325935,\n",
       "       120.75678 ,   0.      ,   0.      , 165.152655, 120.75678 ,\n",
       "       197.117685,  62.154225,   0.      , 207.772695, 113.65344 ,\n",
       "        79.912575,   0.      ,   0.      ,   0.      ])"
      ]
     },
     "execution_count": 14,
     "metadata": {},
     "output_type": "execute_result"
    }
   ],
   "source": [
    "#Choosing to run for the first hour\n",
    "load = np.zeros(n_bus)\n",
    "demand = system_demand['System Demand'][0]\n",
    "\n",
    "for n in load_distribution['Node'].unique():\n",
    "    load[n] = load_distribution.loc[load_distribution['Node'] == n, '% of system load'] / 100 * demand\n",
    "\n",
    "load"
   ]
  },
  {
   "cell_type": "code",
   "execution_count": 12,
   "metadata": {},
   "outputs": [
    {
     "name": "stdout",
     "output_type": "stream",
     "text": [
      "Minimize\n",
      "1332.0 P_G[0] + 1332.0 P_G[1] + 2070.0 P_G[2] + 2093.0 P_G[3] + 2611.0 P_G[4]\n",
      "+ 1052.0 P_G[5] + 1052.0 P_G[6] + 602.0 P_G[7] + 547.0 P_G[8] + 1052.0 P_G[10]\n",
      "+ 1089.0 P_G[11]\n",
      "Subject To\n",
      "Bounds\n",
      "  theta[0] free\n",
      "  theta[1] free\n",
      "  theta[2] free\n",
      "  theta[3] free\n",
      "  theta[4] free\n",
      "  theta[5] free\n",
      "  theta[6] free\n",
      "  theta[7] free\n",
      "  theta[8] free\n",
      "  theta[9] free\n",
      "  theta[10] free\n",
      "  theta[11] free\n",
      "  theta[12] free\n",
      "  theta[13] free\n",
      "  theta[14] free\n",
      "  theta[15] free\n",
      "  theta[16] free\n",
      "  theta[17] free\n",
      "  theta[18] free\n",
      "  theta[19] free\n",
      "  theta[20] free\n",
      "  theta[21] free\n",
      "  theta[22] free\n",
      "  theta[23] free\n"
     ]
    }
   ],
   "source": [
    "#per-unit bases\n",
    "S_base_3ph = 100 #MW\n",
    "\n",
    "direction = gb.GRB.MINIMIZE #Min / Max\n",
    "\n",
    "# Create a Gurobi model       \n",
    "m = gb.Model()\n",
    "\n",
    "# Add variables\n",
    "p_G = m.addVars(len(gen_data.index), lb=0, ub=gb.GRB.INFINITY, name=\"P_G\") #Note: This is in per unit\n",
    "theta = m.addVars(n_bus, lb=-gb.GRB.INFINITY, ub=gb.GRB.INFINITY, name=\"theta\")\n",
    "\n",
    "# Set objective function\n",
    "obj = gb.quicksum(gen_costs['C ($/MWh)'][k] * p_G[k] * S_base_3ph for k in range(len(p_G)))         \n",
    "m.setObjective(obj, direction) #Minimization / Maximization\n",
    "\n",
    "\n",
    "\n",
    "#m.addConstrs(p_G[i] - demands[i] == theta[i] * b_mat.iloc[i,i] + gb.quicksum(theta[k] * b_mat.iloc[i,k] for k in range(n_bus) if k != i) for i in range(n_bus))\n",
    "\n",
    "# for i in range(n_bus):\n",
    "#     for k in range(i, n_bus): #Avoid duplicates\n",
    "#         if (i != k) and (branch_reactances[i][k] != 0):\n",
    "#             m.addConstr((theta[i] - theta[k]) * 1 / branch_reactances[i][k] <= branch_flow_limit[i][k])\n",
    "#             m.addConstr((theta[i] - theta[k]) * 1 / branch_reactances[i][k] >= -1 * branch_flow_limit[i][k])\n",
    "\n",
    "# m.addConstrs(p_G[i] <= capacities[i] for i in range(n_bus))\n",
    "# m.addConstr(theta[0] == 0)\n",
    "\n",
    "m.update()\n",
    "m.display()"
   ]
  },
  {
   "cell_type": "markdown",
   "metadata": {},
   "source": [
    "Run model (NOT UPDATED)"
   ]
  },
  {
   "cell_type": "code",
   "execution_count": 81,
   "metadata": {},
   "outputs": [
    {
     "name": "stdout",
     "output_type": "stream",
     "text": [
      "Gurobi Optimizer version 10.0.2 build v10.0.2rc0 (win64)\n",
      "\n",
      "CPU model: AMD Ryzen 7 3700X 8-Core Processor, instruction set [SSE2|AVX|AVX2]\n",
      "Thread count: 8 physical cores, 16 logical processors, using up to 16 threads\n",
      "\n",
      "Optimize a model with 13 rows, 6 columns and 28 nonzeros\n",
      "Model fingerprint: 0x9cb6c417\n",
      "Coefficient statistics:\n",
      "  Matrix range     [1e+00, 5e+00]\n",
      "  Objective range  [2e+03, 2e+04]\n",
      "  Bounds range     [3e+00, 3e+00]\n",
      "  RHS range        [2e+00, 2e+00]\n",
      "Presolve removed 12 rows and 3 columns\n",
      "Presolve time: 0.00s\n",
      "Presolved: 1 rows, 3 columns, 3 nonzeros\n",
      "\n",
      "Iteration    Objective       Primal Inf.    Dual Inf.      Time\n",
      "       0    3.0000000e+03   5.000000e-01   0.000000e+00      0s\n",
      "       1    5.7500000e+03   0.000000e+00   0.000000e+00      0s\n",
      "\n",
      "Solved in 1 iterations and 0.00 seconds (0.00 work units)\n",
      "Optimal objective  5.750000000e+03\n",
      "-----------------------------------------------\n",
      "Optimal objective value: 5750.00 DKK\n",
      "P_G[0]: 0.50 pu\n",
      "theta[0]: 0.00 rad\n",
      "P_G[1]: 1.50 pu\n",
      "theta[1]: 0.13 rad\n",
      "P_G[2]: 0.00 pu\n",
      "theta[2]: -0.33 rad\n",
      "Dual value 1:  7000.0\n",
      "Dual value 2:  7000.0\n",
      "Dual value 3:  7000.0\n",
      "Dual value 4:  0.0\n",
      "Dual value 5:  0.0\n",
      "Dual value 6:  0.0\n",
      "Dual value 7:  0.0\n",
      "Dual value 8:  0.0\n",
      "Dual value 9:  0.0\n",
      "Dual value 10:  0.0\n",
      "Dual value 11:  -5500.0\n",
      "Dual value 12:  0.0\n",
      "Dual value 13:  0.0\n",
      "\n",
      "Flows:\n",
      "From 1 to 2: -0.33 pu\n",
      "From 1 to 3: 0.83 pu\n",
      "From 2 to 3: 1.17 pu\n",
      "Bus 1 net injection: 0.50 pu\n",
      "Bus 2 net injection: 1.50 pu\n",
      "Bus 3 net injection: -2.00 pu\n",
      "\n",
      "Total load: 200.00 MWh\n",
      "Total generation: 200.00 MWh\n"
     ]
    }
   ],
   "source": [
    "m.optimize()\n",
    "\n",
    "# Check if the optimization was successful and print solutions\n",
    "if m.status == gb.GRB.OPTIMAL:\n",
    "    constraints = m.getConstrs()\n",
    "    # The constraint dual value / sensitivity in the current solution (also known as the shadow price)... https://www.gurobi.com/documentation/9.5/refman/pi.html\n",
    "    optimized_sens = [constraints[k].Pi for k in range(len(constraints))] \n",
    "    print('-----------------------------------------------')\n",
    "    print(\"Optimal objective value: %.2f DKK\" % m.objVal)\n",
    "\n",
    "    for i in range(n_bus):\n",
    "        print(p_G[i].VarName + \": %.2f pu\" % p_G[i].x)\n",
    "        print(theta[i].VarName + \": %.2f rad\" % theta[i].x)\n",
    "\n",
    "    for k in range(len(constraints)):\n",
    "        print('Dual value {0}: '.format(k+1), optimized_sens[k])\n",
    "\n",
    "    print(\"\\nFlows:\")\n",
    "    for i in range(n_bus):\n",
    "        for k in range(i, n_bus):\n",
    "            if (i != k) and (branch_reactances[i][k] != 0):\n",
    "                print('From %d to %d: %.2f pu' % (i + 1, k + 1, (theta[i].x - theta[k].x) * 1 / branch_reactances[i][k]))\n",
    "    for i in range(n_bus):\n",
    "        net_flow = 0\n",
    "        for k in range(n_bus):\n",
    "            if (i != k) and (branch_reactances[i][k] != 0):\n",
    "                net_flow += (theta[i].x - theta[k].x) * 1 / branch_reactances[i][k]\n",
    "        print('Bus %d net injection: %.2f pu' % (i + 1, net_flow))\n",
    "\n",
    "    print(\"\\nTotal load: %.2f MWh\" % (sum(demands[n] for n in range(n_bus)) * S_base_3ph))\n",
    "    print(\"Total generation: %.2f MWh\" % (sum(p_G[n].x for n in range(n_bus)) * S_base_3ph))\n",
    "\n",
    "else:\n",
    "    print(\"Optimization was not successful.\")     \n",
    "  \n",
    "        \n",
    "# Dispose of the Gurobi model to release resources\n",
    "m.dispose()"
   ]
  }
 ],
 "metadata": {
  "kernelspec": {
   "display_name": "base",
   "language": "python",
   "name": "python3"
  },
  "language_info": {
   "codemirror_mode": {
    "name": "ipython",
    "version": 3
   },
   "file_extension": ".py",
   "mimetype": "text/x-python",
   "name": "python",
   "nbconvert_exporter": "python",
   "pygments_lexer": "ipython3",
   "version": "3.9.7"
  },
  "orig_nbformat": 4
 },
 "nbformat": 4,
 "nbformat_minor": 2
}
