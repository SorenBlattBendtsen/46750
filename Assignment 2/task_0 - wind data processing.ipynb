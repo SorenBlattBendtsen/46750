{
 "cells": [
  {
   "cell_type": "code",
   "execution_count": 1,
   "metadata": {},
   "outputs": [],
   "source": [
    "import numpy as np\n",
    "import pandas as pd\n",
    "import matplotlib.pyplot as plt\n",
    "import function_library_assignment_2 as fnc\n",
    "\n",
    "%load_ext autoreload\n",
    "%autoreload 2\n",
    "\n",
    "plt.rcParams['font.size']=12\n",
    "plt.rcParams['font.family']='serif'\n",
    "plt.rcParams['axes.spines.top'] = False\n",
    "plt.rcParams['axes.spines.right'] = False  \n",
    "plt.rcParams['axes.spines.bottom'] = True     \n",
    "plt.rcParams[\"axes.grid\"] =True\n",
    "plt.rcParams['grid.linestyle'] = '-.' \n",
    "plt.rcParams['grid.linewidth'] = 0.4\n",
    "\n",
    "wind_data = fnc.read_data('wind_data')\n",
    "wind_data_raw = fnc.read_data('wind_data_raw')\n",
    "\n",
    "wind_MWp = 300"
   ]
  }
 ],
 "metadata": {
  "kernelspec": {
   "display_name": "base",
   "language": "python",
   "name": "python3"
  },
  "language_info": {
   "codemirror_mode": {
    "name": "ipython",
    "version": 3
   },
   "file_extension": ".py",
   "mimetype": "text/x-python",
   "name": "python",
   "nbconvert_exporter": "python",
   "pygments_lexer": "ipython3",
   "version": "3.11.4"
  }
 },
 "nbformat": 4,
 "nbformat_minor": 2
}
